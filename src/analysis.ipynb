{
 "cells": [
  {
   "cell_type": "markdown",
   "metadata": {},
   "source": [
    "# Consumptions and Energy Generation analysis"
   ]
  },
  {
   "cell_type": "markdown",
   "metadata": {},
   "source": [
    "This notebook describes all data analysis on resource consumption and power generation."
   ]
  },
  {
   "cell_type": "markdown",
   "metadata": {},
   "source": [
    "Loading the necessary packages:"
   ]
  },
  {
   "cell_type": "code",
   "execution_count": 114,
   "metadata": {},
   "outputs": [],
   "source": [
    "import pandas as pd\n",
    "from datetime import date, timedelta"
   ]
  },
  {
   "cell_type": "markdown",
   "metadata": {},
   "source": [
    "Set the corresponding variables for the data analysis:\n",
    "- files for actual year data set and historical data\n",
    "- year of analysis"
   ]
  },
  {
   "cell_type": "code",
   "execution_count": 115,
   "metadata": {},
   "outputs": [],
   "source": [
    "actuals_file_name:str = \"./../bin/\" + \"2023.csv\"\n",
    "hist_file_name:str = \"./../bin/\" + \"history.csv\"\n",
    "results_folder_path:str = \"./../bin/\"\n",
    "ANALYSIS_YEAR:int = date.today().year"
   ]
  },
  {
   "cell_type": "markdown",
   "metadata": {},
   "source": [
    "Load the data frames from the csv files:"
   ]
  },
  {
   "cell_type": "code",
   "execution_count": 116,
   "metadata": {},
   "outputs": [],
   "source": [
    "actuals_df = pd.read_csv(actuals_file_name, index_col='Date', parse_dates=['Date'])"
   ]
  },
  {
   "cell_type": "markdown",
   "metadata": {},
   "source": [
    "Calculate Statistics per Year"
   ]
  },
  {
   "cell_type": "code",
   "execution_count": 117,
   "metadata": {},
   "outputs": [
    {
     "name": "stdout",
     "output_type": "stream",
     "text": [
      "Gas   Water   Power In   Power Out   Power Gen   Power PV used   Power used   Power Car Stephan   Power Car Heike   Power Car Wink   "
     ]
    }
   ],
   "source": [
    "stats_dict = {}\n",
    "\n",
    "\n",
    "# Columns in the data frame\n",
    "# Gas\tWater\tPower In\tPower Out\tPower Gen\tPower PV used\tPower used\tPower Car Stephan\tPower Car Heike\tPower Car Wink\t\n",
    "for col in actuals_df.columns:\n",
    "    print(col + \"   \", end=\"\")\n",
    "# general consumption statistics\n",
    "consumtion = round(actuals_df[\"Gas\"][-1] - actuals_df[\"Gas\"][0], 2)\n",
    "stats_dict[\"Gasverbrauch (kWh)\"] = consumtion\n",
    "consumtion = round(actuals_df[\"Water\"][-1] - actuals_df[\"Water\"][0], 2)\n",
    "stats_dict[\"Wasserverbrauch (qm)\"] = consumtion\n",
    "consumtion = round(actuals_df[\"Power In\"][-1] - actuals_df[\"Power In\"][0], 2)\n",
    "stats_dict[\"Strombezug (kWh)\"] = consumtion\n",
    "\n",
    "# vehicle energy consumption\n",
    "consumtion = round(actuals_df[\"Power Car Stephan\"][-1] - actuals_df[\"Power Car Stephan\"][0], 2)\n",
    "stats_dict[\"Strom für V60 (kWh)\"] = consumtion\n",
    "consumtion = round(actuals_df[\"Power Car Heike\"][-1] - actuals_df[\"Power Car Heike\"][0], 2)\n",
    "stats_dict[\"Strom für XC40 (kWh)\"] = consumtion\n",
    "consumtion = stats_dict[\"Strom für V60 (kWh)\"] \n",
    "consumtion = consumtion + stats_dict[\"Strom für XC40 (kWh)\"] \n",
    "consumtion = round(consumtion + (actuals_df[\"Power Car Wink\"][-1] - actuals_df[\"Power Car Wink\"][0]), 2)\n",
    "stats_dict[\"Strom für alle Autos (kWh)\"] = consumtion\n",
    "\n",
    "# energy production statistics\n",
    "stats_dict[\"Stromproduktion (kWh)\"] = round(actuals_df[\"Power Gen\"].sum(), 2)\n",
    "stats_dict[\"Eigenverbrauch (kWh)\"] = round(actuals_df[\"Power PV used\"].sum(), 2)\n",
    "stats_dict[\"Stromverbrauch (kWh)\"] = round(actuals_df[\"Power used\"].sum(), 2)\n",
    "stats_dict[\"Max Stromproduktion per Tag (kWh)\"] = round(actuals_df[\"Power Gen\"].max(), 2)\n",
    "stats_dict[\"Max Stromproduktion Tag\"] = actuals_df[\"Power Gen\"].idxmax()\n",
    "stats_dict\n",
    "# get a subset of the data frame where the power generation is not 0.0\n",
    "actuals_with_pwr_df = actuals_df[actuals_df[\"Power PV used\"] > 0.0]\n",
    "stats_dict[\"Mittelwert Stromproduktion (kWh)\"] = round(actuals_with_pwr_df[\"Power Gen\"].mean(), 2)\n",
    "stats_dict[\"Mittelwert Eigenverbrauch (kWh)\"] = round(actuals_with_pwr_df[\"Power PV used\"].mean(), 2)\n",
    "stats_dict[\"Mittelwert Tagesverbrauch (kWh)\"] = round(actuals_with_pwr_df[\"Power used\"].mean(), 2)\n",
    "stats_dict[\"Geschätzter Verbrauch pro Jahr (kWh)\"] = round(actuals_with_pwr_df[\"Power used\"].mean() * 356, 2)\n",
    "stats_dict[\"Geschätzter Autarkiegrad (%)\"] = round(stats_dict[\"Mittelwert Eigenverbrauch (kWh)\"] /\n",
    "                                                   stats_dict[\"Mittelwert Tagesverbrauch (kWh)\"] * 100.0, 2)\n",
    "stats_dict[\"Stromanteil Autos (%)\"] = round(stats_dict[\"Strom für alle Autos (kWh)\"] /\n",
    "                                            stats_dict[\"Strombezug (kWh)\"] * 100.0, 2)\n",
    "\n",
    "\n"
   ]
  },
  {
   "cell_type": "markdown",
   "metadata": {},
   "source": [
    "Display the statistics per year"
   ]
  },
  {
   "cell_type": "code",
   "execution_count": 118,
   "metadata": {},
   "outputs": [
    {
     "name": "stdout",
     "output_type": "stream",
     "text": [
      "Gasverbrauch (kWh):    277.0\n",
      "Wasserverbrauch (qm):    50.0\n",
      "Strombezug (kWh):    2254.0\n",
      "Strom für V60 (kWh):    111.0\n",
      "Strom für XC40 (kWh):    172.0\n",
      "Strom für alle Autos (kWh):    376.0\n",
      "Stromproduktion (kWh):    3360.65\n",
      "Eigenverbrauch (kWh):    1513.95\n",
      "Stromverbrauch (kWh):    1885.08\n",
      "Max Stromproduktion per Tag (kWh):    53.0\n",
      "Max Stromproduktion Tag:    2023-09-05 00:00:00\n",
      "Mittelwert Stromproduktion (kWh):    23.83\n",
      "Mittelwert Eigenverbrauch (kWh):    10.74\n",
      "Mittelwert Tagesverbrauch (kWh):    13.37\n",
      "Geschätzter Verbrauch pro Jahr (kWh):    4759.49\n",
      "Geschätzter Autarkiegrad (%):    80.33\n",
      "Stromanteil Autos (%):    16.68\n"
     ]
    }
   ],
   "source": [
    "for keys, values in stats_dict.items():\n",
    "    print(f\"{keys}:    {values}\")"
   ]
  },
  {
   "cell_type": "markdown",
   "metadata": {},
   "source": [
    "get a dictionary with month start and end dates"
   ]
  },
  {
   "cell_type": "code",
   "execution_count": 119,
   "metadata": {},
   "outputs": [],
   "source": [
    "def get_start_end_dates_of_month(year:int)->dict:\n",
    "    \"\"\"Calculates for that particular year all first days and last days of each month.\n",
    "    Args:\n",
    "        year (int): integer year to create the start and end dates of each month\n",
    "    Returns:\n",
    "        dict: a dictionary with keys for the month number and a list set of two\n",
    "        dates, the start and end dates of that particular month\n",
    "    \"\"\"\n",
    "    # date.today().year\n",
    "    date_dict = {}\n",
    "    for month in range(1,13):\n",
    "        if month != 12:\n",
    "            dict_value = []\n",
    "            start_date = date(year, month, 1)\n",
    "            end_date = date(year, month + 1, 1)\n",
    "            end_date = end_date - timedelta(days=1)\n",
    "            dict_value.append(start_date)\n",
    "            dict_value.append(end_date)\n",
    "            date_dict[month] = dict_value\n",
    "        else:\n",
    "            dict_value = []\n",
    "            start_date = date(year, 12, 1)\n",
    "            end_date = date(year, 12, 31)\n",
    "            dict_value.append(start_date)\n",
    "            dict_value.append(end_date)\n",
    "            date_dict[month] = dict_value\n",
    "    return date_dict"
   ]
  },
  {
   "cell_type": "markdown",
   "metadata": {},
   "source": [
    "Calculate the monthy statistics(mainly based on the daily power data). The rest of the actuals file isn't tracked clearly."
   ]
  },
  {
   "cell_type": "code",
   "execution_count": 120,
   "metadata": {},
   "outputs": [],
   "source": [
    "\n",
    "date_dict = get_start_end_dates_of_month(ANALYSIS_YEAR)\n",
    "\n",
    "mth_stats_diary = {}\n",
    "for key, dates in date_dict.items():\n",
    "    mth_df = actuals_df[dates[0]:dates[1]]\n",
    "    if mth_df.empty == False:\n",
    "        mth_dict = {}\n",
    "        # energy production statistics\n",
    "        mth_dict[\"Stromproduktion (kWh)\"] = round(mth_df[\"Power Gen\"].sum(), 2)\n",
    "        mth_dict[\"Eigenverbrauch (kWh)\"] = round(mth_df[\"Power PV used\"].sum(), 2)\n",
    "        mth_dict[\"Stromverbrauch (kWh)\"] = round(mth_df[\"Power used\"].sum(), 2)\n",
    "        mth_dict[\"Max Stromproduktion per Tag (kWh)\"] = round(mth_df[\"Power Gen\"].max(), 2)\n",
    "        mth_dict[\"Max Stromproduktion Tag\"] = mth_df[\"Power Gen\"].idxmax()\n",
    "        mth_stats_diary[dates[0].strftime('%B')] = mth_dict\n",
    "\n",
    "#for key, value in mth_stats_diary.items():\n",
    "#    print(key)\n",
    "#    print(value)\n",
    "\n",
    "# Creates DataFrame. \n",
    "mth_stats_df = pd.DataFrame(mth_stats_diary) \n",
    "  \n",
    "# Print the data \n",
    "mth_stats_df = mth_stats_df.transpose()\n",
    "result_file = results_folder_path + str(ANALYSIS_YEAR) + \"_mthstats_csv\"\n",
    "mth_stats_df.to_csv(result_file)"
   ]
  }
 ],
 "metadata": {
  "kernelspec": {
   "display_name": ".venv",
   "language": "python",
   "name": "python3"
  },
  "language_info": {
   "codemirror_mode": {
    "name": "ipython",
    "version": 3
   },
   "file_extension": ".py",
   "mimetype": "text/x-python",
   "name": "python",
   "nbconvert_exporter": "python",
   "pygments_lexer": "ipython3",
   "version": "3.11.1"
  }
 },
 "nbformat": 4,
 "nbformat_minor": 2
}
